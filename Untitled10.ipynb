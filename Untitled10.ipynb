{
  "nbformat": 4,
  "nbformat_minor": 0,
  "metadata": {
    "colab": {
      "name": "Untitled10.ipynb",
      "provenance": [],
      "private_outputs": true,
      "include_colab_link": true
    },
    "kernelspec": {
      "name": "python3",
      "display_name": "Python 3"
    }
  },
  "cells": [
    {
      "cell_type": "markdown",
      "metadata": {
        "id": "view-in-github",
        "colab_type": "text"
      },
      "source": [
        "<a href=\"https://colab.research.google.com/github/hajerhajjajifahem24/nqueens/blob/master/Untitled10.ipynb\" target=\"_parent\"><img src=\"https://colab.research.google.com/assets/colab-badge.svg\" alt=\"Open In Colab\"/></a>"
      ]
    },
    {
      "cell_type": "code",
      "metadata": {
        "id": "RJJ3DZd0Kvyj",
        "colab_type": "code",
        "colab": {}
      },
      "source": [
        "import networkx as nx\n",
        "import community\n",
        "import matplotlib.pyplot as plt\n",
        "\n",
        "G = nx.karate_club_graph()  # load a default graph\n",
        "\n",
        "partition = community.best_partition(G)  # compute communities\n",
        "\n",
        "pos = nx.spring_layout(G)  # compute graph layout\n",
        "plt.figure(figsize=(8, 8))  # image is 8 x 8 inches\n",
        "plt.axis('off')\n",
        "nx.draw_networkx_nodes(G, pos, node_size=600, cmap=plt.cm.RdYlBu, node_color=list(partition.values()))\n",
        "nx.draw_networkx_edges(G, pos, alpha=0.3)\n",
        "plt.show(G)\n"
      ],
      "execution_count": 0,
      "outputs": []
    }
  ]
}