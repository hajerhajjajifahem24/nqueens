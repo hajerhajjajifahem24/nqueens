{
  "nbformat": 4,
  "nbformat_minor": 0,
  "metadata": {
    "colab": {
      "name": "nquueens",
      "provenance": [],
      "private_outputs": true,
      "collapsed_sections": [],
      "include_colab_link": true
    },
    "kernelspec": {
      "name": "python3",
      "display_name": "Python 3"
    }
  },
  "cells": [
    {
      "cell_type": "markdown",
      "metadata": {
        "id": "view-in-github",
        "colab_type": "text"
      },
      "source": [
        "<a href=\"https://colab.research.google.com/github/hajerhajjajifahem24/nqueens/blob/master/nquueens.ipynb\" target=\"_parent\"><img src=\"https://colab.research.google.com/assets/colab-badge.svg\" alt=\"Open In Colab\"/></a>"
      ]
    },
    {
      "cell_type": "markdown",
      "metadata": {
        "id": "ttkod_x07Lx5",
        "colab_type": "text"
      },
      "source": [
        ""
      ]
    },
    {
      "cell_type": "code",
      "metadata": {
        "id": "wRgNqof565ec",
        "colab_type": "code",
        "colab": {}
      },
      "source": [
        "import random\n",
        "import numpy\n",
        "\n",
        "#Global Variables\n",
        "crossover_rate = 1\n",
        "mutatation_rate = 0.005 #I have not used mutation in this excercise\n",
        "#################\n",
        "\n",
        "def create_population(number_of_solutions,n):\n",
        "    #N is the number of queens\n",
        "    population = []\n",
        "    for i in range (number_of_solutions):\n",
        "        population.append(random.sample(range(n), n))\n",
        "    return population    \n",
        "\n",
        "def create_children(parents):\n",
        "    myChildren = []\n",
        "    for i in range(0,len(parents)-2,3):\n",
        "        if probabalistic_decision(crossover_rate):\n",
        "            myChildren.extend(create_offspring(parents[i:i+3]))\n",
        "        else:    \n",
        "            myChildren.extend(parents[i:i+3])\n",
        "    return myChildren\n",
        "\n",
        "\n",
        "def mutate(solution):\n",
        "    \n",
        "    newsolution = solution[:]\n",
        "    i=0\n",
        "    j=0\n",
        "    while i==j:\n",
        "        i = random.randint(0,len(solution)-1)\n",
        "        j = random.randint(0,len(solution)-1)\n",
        "    temp1 = newsolution[j]\n",
        "    temp2 = newsolution[i]\n",
        "    newsolution[i] = temp1\n",
        "    newsolution[j] = temp2\n",
        "    return newsolution    \n",
        "\n",
        "def getFitness(solution):\n",
        "    score = (len(solution)-1)*len(solution)\n",
        "    for i in range(0,len(solution)):\n",
        "        for j in range(0,len(solution)):\n",
        "            if i!=j:\n",
        "                if i-solution[i] == j-solution[j] or i+solution[i] == j+solution[j]:\n",
        "                    score-=1\n",
        "    return score/2            \n",
        "    \n",
        "def create_crossover(solution1,solution2):\n",
        "    n = int(len(solution1)/2)\n",
        "    newsolution1 = solution1[:n] + solution2[n:]\n",
        "    newsolution2 = solution1[n:] + solution2[:n]\n",
        "    return (newsolution1,newsolution2)\n",
        "\n",
        "def probabalistic_decision(probability):\n",
        "\treturn random.random() < probability\n",
        "\n",
        "def create_offspring(parents): #c1 and c2 are chromosomes\n",
        "    children = parents\n",
        "    fitness = [getFitness(each_sol) for each_sol in children]\n",
        "    children.pop(fitness.index(min(fitness)))\n",
        "    newchild = mutate(children[random.randint(0, 1)])\n",
        "    children.append(newchild)\n",
        "    return(children) \n",
        "\n",
        "def runmyGA():\n",
        "    #Variable Definition\n",
        "    num_solutions = 24\n",
        "    n_queens = 8\n",
        "    generation_limit = 100\n",
        "    #Variable Definition\n",
        "    solutions = create_population(num_solutions,n_queens)\n",
        "    sol_fitness = [getFitness(each_solution) for each_solution in solutions]\n",
        "    j = 0\n",
        "    break_flag = False\n",
        "    while j < generation_limit:\n",
        "        for i in range(len(sol_fitness)):\n",
        "            if sol_fitness[i] == n_queens*(n_queens-1)/2:\n",
        "                print(solutions[i])\n",
        "                break_flag = True\n",
        "                break\n",
        "        else:\n",
        "            print('Generation {}: Max Fitness {}: Sum Fitness {}'.format(j,max(sol_fitness),sum(sol_fitness)))\n",
        "            j+=1\n",
        "        if break_flag:\n",
        "            break\n",
        "        probability_matrix = [x/sum(sol_fitness) for x in sol_fitness]\n",
        "        ns = numpy.random.choice([i for i in range(num_solutions)],size = num_solutions,p = probability_matrix)\n",
        "        parents = [solutions[i] for i in ns]\n",
        "        solutions = parents\n",
        "        solutions = create_children(parents)\n",
        "        sol_fitness = [getFitness(each_solution) for each_solution in solutions]\n",
        "        \n",
        "        \n",
        "runmyGA()"
      ],
      "execution_count": 0,
      "outputs": []
    }
  ]
}